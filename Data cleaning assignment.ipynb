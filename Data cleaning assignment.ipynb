{
 "cells": [
  {
   "cell_type": "code",
   "execution_count": 1,
   "metadata": {},
   "outputs": [],
   "source": [
    "import pandas as pd\n",
    "import numpy as np\n",
    "import matplotlib.pyplot as plt \n"
   ]
  },
  {
   "cell_type": "code",
   "execution_count": 3,
   "metadata": {},
   "outputs": [
    {
     "data": {
      "text/html": [
       "<div>\n",
       "<style scoped>\n",
       "    .dataframe tbody tr th:only-of-type {\n",
       "        vertical-align: middle;\n",
       "    }\n",
       "\n",
       "    .dataframe tbody tr th {\n",
       "        vertical-align: top;\n",
       "    }\n",
       "\n",
       "    .dataframe thead th {\n",
       "        text-align: right;\n",
       "    }\n",
       "</style>\n",
       "<table border=\"1\" class=\"dataframe\">\n",
       "  <thead>\n",
       "    <tr style=\"text-align: right;\">\n",
       "      <th></th>\n",
       "      <th>Distance(km)</th>\n",
       "      <th>Fuel_Type</th>\n",
       "      <th>Location</th>\n",
       "      <th>year</th>\n",
       "      <th>price</th>\n",
       "      <th>manufacturer</th>\n",
       "      <th>Model</th>\n",
       "      <th>drive</th>\n",
       "      <th>condition</th>\n",
       "      <th>cylinders</th>\n",
       "      <th>transmission</th>\n",
       "      <th>type</th>\n",
       "      <th>paint_color</th>\n",
       "      <th>size</th>\n",
       "      <th>title_status</th>\n",
       "    </tr>\n",
       "  </thead>\n",
       "  <tbody>\n",
       "    <tr>\n",
       "      <th>0</th>\n",
       "      <td>48200</td>\n",
       "      <td>Diesel</td>\n",
       "      <td>NaN</td>\n",
       "      <td>2016</td>\n",
       "      <td>3200000</td>\n",
       "      <td>Audi</td>\n",
       "      <td>Q3 35 TDI Technology</td>\n",
       "      <td>NaN</td>\n",
       "      <td>NaN</td>\n",
       "      <td>NaN</td>\n",
       "      <td>automatic</td>\n",
       "      <td>other</td>\n",
       "      <td>blue</td>\n",
       "      <td>NaN</td>\n",
       "      <td>clean</td>\n",
       "    </tr>\n",
       "    <tr>\n",
       "      <th>1</th>\n",
       "      <td>55310</td>\n",
       "      <td>Diesel</td>\n",
       "      <td>Mumbai</td>\n",
       "      <td>2013</td>\n",
       "      <td>245000</td>\n",
       "      <td>Audi</td>\n",
       "      <td>Q3 2.0 TDI quattro</td>\n",
       "      <td>rwd</td>\n",
       "      <td>NaN</td>\n",
       "      <td>6 cylinders</td>\n",
       "      <td>automatic</td>\n",
       "      <td>convertible</td>\n",
       "      <td>blue</td>\n",
       "      <td>NaN</td>\n",
       "      <td>clean</td>\n",
       "    </tr>\n",
       "    <tr>\n",
       "      <th>2</th>\n",
       "      <td>30120</td>\n",
       "      <td>Diesel</td>\n",
       "      <td>Nadia</td>\n",
       "      <td>2013</td>\n",
       "      <td>255000</td>\n",
       "      <td>Audi</td>\n",
       "      <td>Q3 2.0 TDI quattro</td>\n",
       "      <td>NaN</td>\n",
       "      <td>excellent</td>\n",
       "      <td>NaN</td>\n",
       "      <td>automatic</td>\n",
       "      <td>NaN</td>\n",
       "      <td>blue</td>\n",
       "      <td>NaN</td>\n",
       "      <td>clean</td>\n",
       "    </tr>\n",
       "    <tr>\n",
       "      <th>3</th>\n",
       "      <td>98000</td>\n",
       "      <td>Diesel</td>\n",
       "      <td>New Delhi</td>\n",
       "      <td>2011</td>\n",
       "      <td>249900</td>\n",
       "      <td>Audi</td>\n",
       "      <td>A8 L- 2013 3.0 TDI quattro</td>\n",
       "      <td>fwd</td>\n",
       "      <td>NaN</td>\n",
       "      <td>NaN</td>\n",
       "      <td>automatic</td>\n",
       "      <td>SUV</td>\n",
       "      <td>orange</td>\n",
       "      <td>NaN</td>\n",
       "      <td>clean</td>\n",
       "    </tr>\n",
       "    <tr>\n",
       "      <th>4</th>\n",
       "      <td>42000</td>\n",
       "      <td>Diesel</td>\n",
       "      <td>New Delhi</td>\n",
       "      <td>2009</td>\n",
       "      <td>220000</td>\n",
       "      <td>Audi</td>\n",
       "      <td>A8 (2003 - 2010) 3.0 TDi</td>\n",
       "      <td>NaN</td>\n",
       "      <td>NaN</td>\n",
       "      <td>NaN</td>\n",
       "      <td>automatic</td>\n",
       "      <td>NaN</td>\n",
       "      <td>NaN</td>\n",
       "      <td>NaN</td>\n",
       "      <td>clean</td>\n",
       "    </tr>\n",
       "  </tbody>\n",
       "</table>\n",
       "</div>"
      ],
      "text/plain": [
       "   Distance(km)   Fuel_Type        Location  year    price manufacturer  \\\n",
       "0         48200      Diesel             NaN  2016  3200000         Audi   \n",
       "1         55310    Diesel          Mumbai    2013   245000         Audi   \n",
       "2         30120    Diesel           Nadia    2013   255000         Audi   \n",
       "3         98000    Diesel       New Delhi    2011   249900         Audi   \n",
       "4         42000    Diesel       New Delhi    2009   220000         Audi   \n",
       "\n",
       "                        Model drive  condition    cylinders transmission  \\\n",
       "0        Q3 35 TDI Technology   NaN        NaN          NaN    automatic   \n",
       "1          Q3 2.0 TDI quattro   rwd        NaN  6 cylinders    automatic   \n",
       "2          Q3 2.0 TDI quattro   NaN  excellent          NaN    automatic   \n",
       "3  A8 L- 2013 3.0 TDI quattro   fwd        NaN          NaN    automatic   \n",
       "4    A8 (2003 - 2010) 3.0 TDi   NaN        NaN          NaN    automatic   \n",
       "\n",
       "          type paint_color size title_status  \n",
       "0        other        blue  NaN        clean  \n",
       "1  convertible        blue  NaN        clean  \n",
       "2          NaN        blue  NaN        clean  \n",
       "3          SUV      orange  NaN        clean  \n",
       "4          NaN         NaN  NaN        clean  "
      ]
     },
     "execution_count": 3,
     "metadata": {},
     "output_type": "execute_result"
    }
   ],
   "source": [
    "car_data=pd.read_csv(\"datasets3.csv\",encoding='ANSI')\n",
    "car_data.head()\n"
   ]
  },
  {
   "cell_type": "code",
   "execution_count": 4,
   "metadata": {},
   "outputs": [
    {
     "data": {
      "text/html": [
       "<div>\n",
       "<style scoped>\n",
       "    .dataframe tbody tr th:only-of-type {\n",
       "        vertical-align: middle;\n",
       "    }\n",
       "\n",
       "    .dataframe tbody tr th {\n",
       "        vertical-align: top;\n",
       "    }\n",
       "\n",
       "    .dataframe thead th {\n",
       "        text-align: right;\n",
       "    }\n",
       "</style>\n",
       "<table border=\"1\" class=\"dataframe\">\n",
       "  <thead>\n",
       "    <tr style=\"text-align: right;\">\n",
       "      <th></th>\n",
       "      <th>Distance(km)</th>\n",
       "      <th>year</th>\n",
       "      <th>price</th>\n",
       "    </tr>\n",
       "  </thead>\n",
       "  <tbody>\n",
       "    <tr>\n",
       "      <th>count</th>\n",
       "      <td>1.728000e+04</td>\n",
       "      <td>17280.000000</td>\n",
       "      <td>1.728000e+04</td>\n",
       "    </tr>\n",
       "    <tr>\n",
       "      <th>mean</th>\n",
       "      <td>6.703187e+04</td>\n",
       "      <td>2011.800289</td>\n",
       "      <td>9.886584e+06</td>\n",
       "    </tr>\n",
       "    <tr>\n",
       "      <th>std</th>\n",
       "      <td>7.223008e+04</td>\n",
       "      <td>3.042742</td>\n",
       "      <td>8.864240e+07</td>\n",
       "    </tr>\n",
       "    <tr>\n",
       "      <th>min</th>\n",
       "      <td>0.000000e+00</td>\n",
       "      <td>1998.000000</td>\n",
       "      <td>1.020000e+04</td>\n",
       "    </tr>\n",
       "    <tr>\n",
       "      <th>25%</th>\n",
       "      <td>3.777350e+04</td>\n",
       "      <td>2010.000000</td>\n",
       "      <td>3.600000e+04</td>\n",
       "    </tr>\n",
       "    <tr>\n",
       "      <th>50%</th>\n",
       "      <td>5.945350e+04</td>\n",
       "      <td>2012.000000</td>\n",
       "      <td>7.550000e+04</td>\n",
       "    </tr>\n",
       "    <tr>\n",
       "      <th>75%</th>\n",
       "      <td>8.355300e+04</td>\n",
       "      <td>2014.000000</td>\n",
       "      <td>2.350000e+05</td>\n",
       "    </tr>\n",
       "    <tr>\n",
       "      <th>max</th>\n",
       "      <td>7.175673e+06</td>\n",
       "      <td>2019.000000</td>\n",
       "      <td>1.000000e+09</td>\n",
       "    </tr>\n",
       "  </tbody>\n",
       "</table>\n",
       "</div>"
      ],
      "text/plain": [
       "       Distance(km)          year         price\n",
       "count  1.728000e+04  17280.000000  1.728000e+04\n",
       "mean   6.703187e+04   2011.800289  9.886584e+06\n",
       "std    7.223008e+04      3.042742  8.864240e+07\n",
       "min    0.000000e+00   1998.000000  1.020000e+04\n",
       "25%    3.777350e+04   2010.000000  3.600000e+04\n",
       "50%    5.945350e+04   2012.000000  7.550000e+04\n",
       "75%    8.355300e+04   2014.000000  2.350000e+05\n",
       "max    7.175673e+06   2019.000000  1.000000e+09"
      ]
     },
     "execution_count": 4,
     "metadata": {},
     "output_type": "execute_result"
    }
   ],
   "source": [
    "car_data.describe()"
   ]
  },
  {
   "cell_type": "code",
   "execution_count": 5,
   "metadata": {},
   "outputs": [],
   "source": [
    "car_data.drop(['drive','condition','type','Location','size'],axis='columns',inplace=True)\n"
   ]
  },
  {
   "cell_type": "code",
   "execution_count": 6,
   "metadata": {},
   "outputs": [
    {
     "data": {
      "text/plain": [
       "Index(['Distance(km)', 'Fuel_Type', 'year', 'price', 'manufacturer', 'Model',\n",
       "       'cylinders', 'transmission', 'paint_color', 'title_status'],\n",
       "      dtype='object')"
      ]
     },
     "execution_count": 6,
     "metadata": {},
     "output_type": "execute_result"
    }
   ],
   "source": [
    "car_data.columns"
   ]
  },
  {
   "cell_type": "code",
   "execution_count": 7,
   "metadata": {},
   "outputs": [
    {
     "data": {
      "text/html": [
       "<div>\n",
       "<style scoped>\n",
       "    .dataframe tbody tr th:only-of-type {\n",
       "        vertical-align: middle;\n",
       "    }\n",
       "\n",
       "    .dataframe tbody tr th {\n",
       "        vertical-align: top;\n",
       "    }\n",
       "\n",
       "    .dataframe thead th {\n",
       "        text-align: right;\n",
       "    }\n",
       "</style>\n",
       "<table border=\"1\" class=\"dataframe\">\n",
       "  <thead>\n",
       "    <tr style=\"text-align: right;\">\n",
       "      <th></th>\n",
       "      <th>Distance(km)</th>\n",
       "      <th>Fuel_Type</th>\n",
       "      <th>year</th>\n",
       "      <th>price</th>\n",
       "      <th>manufacturer</th>\n",
       "      <th>Model</th>\n",
       "      <th>cylinders</th>\n",
       "      <th>transmission</th>\n",
       "      <th>paint_color</th>\n",
       "      <th>title_status</th>\n",
       "    </tr>\n",
       "  </thead>\n",
       "  <tbody>\n",
       "    <tr>\n",
       "      <th>0</th>\n",
       "      <td>48200</td>\n",
       "      <td>Diesel</td>\n",
       "      <td>2016</td>\n",
       "      <td>3200000</td>\n",
       "      <td>Audi</td>\n",
       "      <td>Q3 35 TDI Technology</td>\n",
       "      <td>NaN</td>\n",
       "      <td>automatic</td>\n",
       "      <td>blue</td>\n",
       "      <td>clean</td>\n",
       "    </tr>\n",
       "    <tr>\n",
       "      <th>1</th>\n",
       "      <td>55310</td>\n",
       "      <td>Diesel</td>\n",
       "      <td>2013</td>\n",
       "      <td>245000</td>\n",
       "      <td>Audi</td>\n",
       "      <td>Q3 2.0 TDI quattro</td>\n",
       "      <td>6 cylinders</td>\n",
       "      <td>automatic</td>\n",
       "      <td>blue</td>\n",
       "      <td>clean</td>\n",
       "    </tr>\n",
       "    <tr>\n",
       "      <th>2</th>\n",
       "      <td>30120</td>\n",
       "      <td>Diesel</td>\n",
       "      <td>2013</td>\n",
       "      <td>255000</td>\n",
       "      <td>Audi</td>\n",
       "      <td>Q3 2.0 TDI quattro</td>\n",
       "      <td>NaN</td>\n",
       "      <td>automatic</td>\n",
       "      <td>blue</td>\n",
       "      <td>clean</td>\n",
       "    </tr>\n",
       "    <tr>\n",
       "      <th>3</th>\n",
       "      <td>98000</td>\n",
       "      <td>Diesel</td>\n",
       "      <td>2011</td>\n",
       "      <td>249900</td>\n",
       "      <td>Audi</td>\n",
       "      <td>A8 L- 2013 3.0 TDI quattro</td>\n",
       "      <td>NaN</td>\n",
       "      <td>automatic</td>\n",
       "      <td>orange</td>\n",
       "      <td>clean</td>\n",
       "    </tr>\n",
       "    <tr>\n",
       "      <th>4</th>\n",
       "      <td>42000</td>\n",
       "      <td>Diesel</td>\n",
       "      <td>2009</td>\n",
       "      <td>220000</td>\n",
       "      <td>Audi</td>\n",
       "      <td>A8 (2003 - 2010) 3.0 TDi</td>\n",
       "      <td>NaN</td>\n",
       "      <td>automatic</td>\n",
       "      <td>NaN</td>\n",
       "      <td>clean</td>\n",
       "    </tr>\n",
       "  </tbody>\n",
       "</table>\n",
       "</div>"
      ],
      "text/plain": [
       "   Distance(km)   Fuel_Type  year    price manufacturer  \\\n",
       "0         48200      Diesel  2016  3200000         Audi   \n",
       "1         55310    Diesel    2013   245000         Audi   \n",
       "2         30120    Diesel    2013   255000         Audi   \n",
       "3         98000    Diesel    2011   249900         Audi   \n",
       "4         42000    Diesel    2009   220000         Audi   \n",
       "\n",
       "                        Model    cylinders transmission paint_color  \\\n",
       "0        Q3 35 TDI Technology          NaN    automatic        blue   \n",
       "1          Q3 2.0 TDI quattro  6 cylinders    automatic        blue   \n",
       "2          Q3 2.0 TDI quattro          NaN    automatic        blue   \n",
       "3  A8 L- 2013 3.0 TDI quattro          NaN    automatic      orange   \n",
       "4    A8 (2003 - 2010) 3.0 TDi          NaN    automatic         NaN   \n",
       "\n",
       "  title_status  \n",
       "0        clean  \n",
       "1        clean  \n",
       "2        clean  \n",
       "3        clean  \n",
       "4        clean  "
      ]
     },
     "execution_count": 7,
     "metadata": {},
     "output_type": "execute_result"
    }
   ],
   "source": [
    "car_data_dup=car_data.drop_duplicates(['Distance(km)', 'Fuel_Type', 'year', 'price', 'manufacturer', 'Model',\n",
    "       'cylinders', 'transmission', 'paint_color', 'title_status'])\n",
    "car_data_dup.head()"
   ]
  },
  {
   "cell_type": "code",
   "execution_count": 8,
   "metadata": {},
   "outputs": [],
   "source": [
    "car_data_dup = car_data_dup[\n",
    "        (car_data_dup.year <= 2020) \n",
    "      & (car_data_dup.year>= 2000) \n",
    "      & (car_data_dup.price >= 100) \n",
    "      & (car_data_dup.price <= 150000) ]"
   ]
  },
  {
   "cell_type": "code",
   "execution_count": 9,
   "metadata": {},
   "outputs": [
    {
     "data": {
      "text/html": [
       "<div>\n",
       "<style scoped>\n",
       "    .dataframe tbody tr th:only-of-type {\n",
       "        vertical-align: middle;\n",
       "    }\n",
       "\n",
       "    .dataframe tbody tr th {\n",
       "        vertical-align: top;\n",
       "    }\n",
       "\n",
       "    .dataframe thead th {\n",
       "        text-align: right;\n",
       "    }\n",
       "</style>\n",
       "<table border=\"1\" class=\"dataframe\">\n",
       "  <thead>\n",
       "    <tr style=\"text-align: right;\">\n",
       "      <th></th>\n",
       "      <th>Distance(km)</th>\n",
       "      <th>Fuel_Type</th>\n",
       "      <th>year</th>\n",
       "      <th>price</th>\n",
       "      <th>manufacturer</th>\n",
       "      <th>Model</th>\n",
       "      <th>cylinders</th>\n",
       "      <th>transmission</th>\n",
       "      <th>paint_color</th>\n",
       "      <th>title_status</th>\n",
       "    </tr>\n",
       "  </thead>\n",
       "  <tbody>\n",
       "    <tr>\n",
       "      <th>40</th>\n",
       "      <td>68140</td>\n",
       "      <td>Diesel</td>\n",
       "      <td>2010</td>\n",
       "      <td>149500</td>\n",
       "      <td>Audi</td>\n",
       "      <td>A6 2.0 TDI</td>\n",
       "      <td>6 cylinders</td>\n",
       "      <td>automatic</td>\n",
       "      <td>red</td>\n",
       "      <td>clean</td>\n",
       "    </tr>\n",
       "    <tr>\n",
       "      <th>43</th>\n",
       "      <td>60000</td>\n",
       "      <td>Diesel</td>\n",
       "      <td>2012</td>\n",
       "      <td>109500</td>\n",
       "      <td>Audi</td>\n",
       "      <td>A4 2.0 TDI Premium Plus</td>\n",
       "      <td>6 cylinders</td>\n",
       "      <td>automatic</td>\n",
       "      <td>black</td>\n",
       "      <td>clean</td>\n",
       "    </tr>\n",
       "    <tr>\n",
       "      <th>45</th>\n",
       "      <td>48781</td>\n",
       "      <td>Diesel</td>\n",
       "      <td>2011</td>\n",
       "      <td>125000</td>\n",
       "      <td>Audi</td>\n",
       "      <td>A4 2.0 TDI Premium Plus</td>\n",
       "      <td>8 cylinders</td>\n",
       "      <td>automatic</td>\n",
       "      <td>green</td>\n",
       "      <td>clean</td>\n",
       "    </tr>\n",
       "    <tr>\n",
       "      <th>52</th>\n",
       "      <td>46000</td>\n",
       "      <td>Diesel</td>\n",
       "      <td>2010</td>\n",
       "      <td>128500</td>\n",
       "      <td>Audi</td>\n",
       "      <td>A4 2.0 TDI Multitronic</td>\n",
       "      <td>NaN</td>\n",
       "      <td>automatic</td>\n",
       "      <td>NaN</td>\n",
       "      <td>clean</td>\n",
       "    </tr>\n",
       "    <tr>\n",
       "      <th>54</th>\n",
       "      <td>115063</td>\n",
       "      <td>Diesel</td>\n",
       "      <td>2009</td>\n",
       "      <td>112100</td>\n",
       "      <td>Audi</td>\n",
       "      <td>A4 2.0 TDI Multitronic</td>\n",
       "      <td>4 cylinders</td>\n",
       "      <td>automatic</td>\n",
       "      <td>blue</td>\n",
       "      <td>clean</td>\n",
       "    </tr>\n",
       "  </tbody>\n",
       "</table>\n",
       "</div>"
      ],
      "text/plain": [
       "    Distance(km)   Fuel_Type  year   price manufacturer  \\\n",
       "40         68140    Diesel    2010  149500         Audi   \n",
       "43         60000    Diesel    2012  109500         Audi   \n",
       "45         48781    Diesel    2011  125000         Audi   \n",
       "52         46000    Diesel    2010  128500         Audi   \n",
       "54        115063    Diesel    2009  112100         Audi   \n",
       "\n",
       "                      Model    cylinders transmission paint_color title_status  \n",
       "40               A6 2.0 TDI  6 cylinders    automatic         red        clean  \n",
       "43  A4 2.0 TDI Premium Plus  6 cylinders    automatic       black        clean  \n",
       "45  A4 2.0 TDI Premium Plus  8 cylinders    automatic       green        clean  \n",
       "52   A4 2.0 TDI Multitronic          NaN    automatic         NaN        clean  \n",
       "54   A4 2.0 TDI Multitronic  4 cylinders    automatic        blue        clean  "
      ]
     },
     "execution_count": 9,
     "metadata": {},
     "output_type": "execute_result"
    }
   ],
   "source": [
    "car_data_dup.head()"
   ]
  },
  {
   "cell_type": "code",
   "execution_count": 10,
   "metadata": {},
   "outputs": [
    {
     "data": {
      "text/plain": [
       "Distance(km)       0\n",
       "Fuel_Type          0\n",
       "year               0\n",
       "price              0\n",
       "manufacturer       0\n",
       "Model             16\n",
       "cylinders       3995\n",
       "transmission      59\n",
       "paint_color     3601\n",
       "title_status      79\n",
       "dtype: int64"
      ]
     },
     "execution_count": 10,
     "metadata": {},
     "output_type": "execute_result"
    }
   ],
   "source": [
    "car_data_dup.isnull().sum()"
   ]
  },
  {
   "cell_type": "code",
   "execution_count": 11,
   "metadata": {},
   "outputs": [],
   "source": [
    "car_data_dup['manufacturer'].fillna(value='not-cleared',inplace=True)\n",
    "car_data_dup['Model'].fillna(value='not-cleared',inplace=True)\n",
    "#car_data_dup['condition'].fillna(value='not-cleared',inplace=True)\n",
    "car_data_dup['cylinders'].fillna(value='4 cylinders',inplace=True)\n",
    "car_data_dup['Fuel_Type'].fillna(value='Diesel',inplace=True)\n",
    "car_data_dup['title_status'].fillna(value='not-cleared',inplace=True)\n",
    "car_data_dup['transmission'].fillna(value='not-cleared',inplace=True)\n",
    "#car_data_dup['drive'].fillna(value='not-cleared',inplace=True)\n",
    "#car_data_dup['size'].fillna(value='not-cleared',inplace=True)\n",
    "#car_data_dup['type'].fillna(value='not-cleared',inplace=True)\n",
    "car_data_dup['paint_color'].fillna(value='not-cleared',inplace=True)\n"
   ]
  },
  {
   "cell_type": "code",
   "execution_count": 12,
   "metadata": {},
   "outputs": [
    {
     "data": {
      "text/plain": [
       "Distance(km)    0\n",
       "Fuel_Type       0\n",
       "year            0\n",
       "price           0\n",
       "manufacturer    0\n",
       "Model           0\n",
       "cylinders       0\n",
       "transmission    0\n",
       "paint_color     0\n",
       "title_status    0\n",
       "dtype: int64"
      ]
     },
     "execution_count": 12,
     "metadata": {},
     "output_type": "execute_result"
    }
   ],
   "source": [
    "car_data_dup.isnull().sum()"
   ]
  },
  {
   "cell_type": "code",
   "execution_count": 13,
   "metadata": {},
   "outputs": [],
   "source": [
    "%matplotlib inline"
   ]
  },
  {
   "cell_type": "code",
   "execution_count": 14,
   "metadata": {},
   "outputs": [
    {
     "name": "stdout",
     "output_type": "stream",
     "text": [
      "Model\n",
      "Suzuki Swift VDi       437\n",
      "Suzuki Alto 800 LXI    365\n",
      "alto[LXI               290\n",
      "Suzuki Alto K10 VXI    251\n",
      "Suzuki Swift VXi       185\n",
      "Name: Model, dtype: int64\n"
     ]
    },
    {
     "data": {
      "image/png": "[encoded data removed]",
      "text/plain": [
       "<Figure size 360x216 with 1 Axes>"
      ]
     },
     "metadata": {
      "needs_background": "light"
     },
     "output_type": "display_data"
    },
    {
     "name": "stdout",
     "output_type": "stream",
     "text": [
      "manufacturer\n",
      "Maruti        3877\n",
      "Hyundai       1674\n",
      "Maruti        1229\n",
      "Honda          666\n",
      "Volkswagen     532\n",
      "Name: manufacturer, dtype: int64\n"
     ]
    },
    {
     "data": {
      "image/png": "[encoded data removed]",
      "text/plain": [
       "<Figure size 360x216 with 1 Axes>"
      ]
     },
     "metadata": {
      "needs_background": "light"
     },
     "output_type": "display_data"
    },
    {
     "name": "stdout",
     "output_type": "stream",
     "text": [
      "Fuel_Type\n",
      "  Petrol      5843\n",
      "  Diesel      3205\n",
      "petrol        1166\n",
      "  LPG           87\n",
      "  CNG           80\n",
      "Name: Fuel_Type, dtype: int64\n"
     ]
    },
    {
     "data": {
      "image/png": "[encoded data removed]",
      "text/plain": [
       "<Figure size 360x216 with 1 Axes>"
      ]
     },
     "metadata": {
      "needs_background": "light"
     },
     "output_type": "display_data"
    },
    {
     "name": "stdout",
     "output_type": "stream",
     "text": [
      "year\n",
      "2013    1350\n",
      "2012    1347\n",
      "2014    1320\n",
      "2011    1174\n",
      "2015    1062\n",
      "Name: year, dtype: int64\n"
     ]
    },
    {
     "data": {
      "image/png": "[encoded data removed]",
      "text/plain": [
       "<Figure size 360x216 with 1 Axes>"
      ]
     },
     "metadata": {
      "needs_background": "light"
     },
     "output_type": "display_data"
    },
    {
     "name": "stdout",
     "output_type": "stream",
     "text": [
      "cylinders\n",
      "4 cylinders     5952\n",
      "6 cylinders     2372\n",
      "8 cylinders     2055\n",
      "5 cylinders       59\n",
      "10 cylinders      44\n",
      "Name: cylinders, dtype: int64\n"
     ]
    },
    {
     "data": {
      "image/png": "[encoded data removed]",
      "text/plain": [
       "<Figure size 360x216 with 1 Axes>"
      ]
     },
     "metadata": {
      "needs_background": "light"
     },
     "output_type": "display_data"
    }
   ],
   "source": [
    "categories = ['Model', 'manufacturer', 'Fuel_Type','year','cylinders']\n",
    "\n",
    "for i, c in enumerate(categories):\n",
    "    v = car_data_dup[c].unique()\n",
    "    g = car_data_dup.groupby(by=c)[c].count().sort_values(ascending=False)\n",
    "    r = range(min(len(v), 5))\n",
    "    print( g.head())\n",
    "    plt.figure(figsize=(5,3))\n",
    "    plt.bar(r, g.head()) \n",
    "    plt.xticks(r, g.index)\n",
    "    plt.show()"
   ]
  },
  {
   "cell_type": "code",
   "execution_count": null,
   "metadata": {},
   "outputs": [],
   "source": []
  }
 ],
 "metadata": {
  "kernelspec": {
   "display_name": "Python 3",
   "language": "python",
   "name": "python3"
  },
  "language_info": {
   "codemirror_mode": {
    "name": "ipython",
    "version": 3
   },
   "file_extension": ".py",
   "mimetype": "text/x-python",
   "name": "python",
   "nbconvert_exporter": "python",
   "pygments_lexer": "ipython3",
   "version": "3.7.6"
  }
 },
 "nbformat": 4,
 "nbformat_minor": 4
}
